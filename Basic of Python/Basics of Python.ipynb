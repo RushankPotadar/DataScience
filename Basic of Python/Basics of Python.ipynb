{
 "cells": [
  {
   "cell_type": "markdown",
   "id": "d58ac91f",
   "metadata": {},
   "source": [
    "### 1. Write a Python program that checks whether a given number is prime or not. A prime number is a natural number greater than 1 that has no positive divisors other than 1 and itself."
   ]
  },
  {
   "cell_type": "code",
   "execution_count": 1,
   "id": "ff2a951d",
   "metadata": {},
   "outputs": [
    {
     "name": "stdout",
     "output_type": "stream",
     "text": [
      "15 is not a prime number\n"
     ]
    }
   ],
   "source": [
    "n=15\n",
    "if n>1:\n",
    "    for i in range(2, (n//2)+1):\n",
    "        if (n % i) == 0:\n",
    "            print(n, \"is not a prime number\")\n",
    "            break\n",
    "    else:\n",
    "        print(n, \"is a prime number\")\n",
    "else:\n",
    "    print(n, \"is not a prime number\")"
   ]
  },
  {
   "cell_type": "markdown",
   "id": "a2f595ca",
   "metadata": {},
   "source": [
    "### 2. Develop a Python program that generates two random numbers and asks the user to enter the product of these numbers. The program should then check if the user's answer is correct and display an appropriate message."
   ]
  },
  {
   "cell_type": "code",
   "execution_count": 2,
   "id": "8472e70b",
   "metadata": {},
   "outputs": [
    {
     "name": "stdout",
     "output_type": "stream",
     "text": [
      "Numbers are : 20 and 5\n",
      "Enter the Product of the Numbers:100\n",
      "Your answer is correct\n"
     ]
    }
   ],
   "source": [
    "import random\n",
    "n1=random.randint(2,20)\n",
    "n2=random.randint(2,20)\n",
    "print(f'Numbers are : {n1} and {n2}')\n",
    "user=int(input('Enter the Product of the Numbers:'))\n",
    "output = n1*n2\n",
    "if user == output:\n",
    "    print('Your answer is correct')\n",
    "else:\n",
    "    print('Answer is wrong')"
   ]
  },
  {
   "cell_type": "markdown",
   "id": "f9264e36",
   "metadata": {},
   "source": [
    "### 3. Create a Python script that prints the squares of all even or odd numbers within the range of 100 to 200. Choose either even or odd numbers and document your choice in the code."
   ]
  },
  {
   "cell_type": "code",
   "execution_count": 3,
   "id": "318bf2ca",
   "metadata": {},
   "outputs": [
    {
     "name": "stdout",
     "output_type": "stream",
     "text": [
      "Do you want the squares of 'even' or 'odd' numbers? Enter 'even' or 'odd': even\n",
      "Squares of 100 is 10000\n",
      "Squares of 102 is 10404\n",
      "Squares of 104 is 10816\n",
      "Squares of 106 is 11236\n",
      "Squares of 108 is 11664\n",
      "Squares of 110 is 12100\n",
      "Squares of 112 is 12544\n",
      "Squares of 114 is 12996\n",
      "Squares of 116 is 13456\n",
      "Squares of 118 is 13924\n",
      "Squares of 120 is 14400\n",
      "Squares of 122 is 14884\n",
      "Squares of 124 is 15376\n",
      "Squares of 126 is 15876\n",
      "Squares of 128 is 16384\n",
      "Squares of 130 is 16900\n",
      "Squares of 132 is 17424\n",
      "Squares of 134 is 17956\n",
      "Squares of 136 is 18496\n",
      "Squares of 138 is 19044\n",
      "Squares of 140 is 19600\n",
      "Squares of 142 is 20164\n",
      "Squares of 144 is 20736\n",
      "Squares of 146 is 21316\n",
      "Squares of 148 is 21904\n",
      "Squares of 150 is 22500\n",
      "Squares of 152 is 23104\n",
      "Squares of 154 is 23716\n",
      "Squares of 156 is 24336\n",
      "Squares of 158 is 24964\n",
      "Squares of 160 is 25600\n",
      "Squares of 162 is 26244\n",
      "Squares of 164 is 26896\n",
      "Squares of 166 is 27556\n",
      "Squares of 168 is 28224\n",
      "Squares of 170 is 28900\n",
      "Squares of 172 is 29584\n",
      "Squares of 174 is 30276\n",
      "Squares of 176 is 30976\n",
      "Squares of 178 is 31684\n",
      "Squares of 180 is 32400\n",
      "Squares of 182 is 33124\n",
      "Squares of 184 is 33856\n",
      "Squares of 186 is 34596\n",
      "Squares of 188 is 35344\n",
      "Squares of 190 is 36100\n",
      "Squares of 192 is 36864\n",
      "Squares of 194 is 37636\n",
      "Squares of 196 is 38416\n",
      "Squares of 198 is 39204\n",
      "Squares of 200 is 40000\n"
     ]
    }
   ],
   "source": [
    "choice = input(\"Do you want the squares of 'even' or 'odd' numbers? Enter 'even' or 'odd': \").strip().lower()\n",
    "\n",
    "## if the user chooses 'even'\n",
    "if choice == 'even':\n",
    "    for i in range(100,201):\n",
    "        if i%2==0:\n",
    "            print(f'Squares of {i} is {i**2}')\n",
    "\n",
    "## if the user chooses 'odd'\n",
    "if choice == 'odd':\n",
    "    for i in range(100,201):\n",
    "        if i%2!=0:\n",
    "            print(f'Squares of {i} is {i**2}')"
   ]
  },
  {
   "cell_type": "markdown",
   "id": "9ee540bb",
   "metadata": {},
   "source": [
    "### 4. write a program to count the number of words in a given text."
   ]
  },
  {
   "cell_type": "code",
   "execution_count": 4,
   "id": "aafd76e0",
   "metadata": {},
   "outputs": [
    {
     "name": "stdout",
     "output_type": "stream",
     "text": [
      "'this': 2\n",
      "'is': 1\n",
      "'a': 1\n",
      "'sample': 1\n",
      "'text': 2\n",
      "'will': 1\n",
      "'be': 1\n",
      "'used': 1\n",
      "'to': 1\n",
      "'demonstrate': 1\n",
      "'the': 1\n",
      "'word': 1\n",
      "'counter': 1\n"
     ]
    }
   ],
   "source": [
    "input_text = \"This is a sample text. This text will be used to demonstrate the word counter.\"\n",
    "words = input_text.lower().replace('.', '').split()\n",
    "\n",
    "word_count = {}\n",
    "\n",
    "for word in words:\n",
    "    if word in word_count:\n",
    "        word_count[word] += 1\n",
    "    else:\n",
    "        word_count[word] = 1\n",
    "\n",
    "for word, count in word_count.items():\n",
    "    print(f\"'{word}': {count}\")\n"
   ]
  },
  {
   "cell_type": "markdown",
   "id": "1ef4d1c7",
   "metadata": {},
   "source": [
    "### 5. Check for Palindrome"
   ]
  },
  {
   "cell_type": "code",
   "execution_count": 6,
   "id": "df2dbceb",
   "metadata": {},
   "outputs": [
    {
     "name": "stdout",
     "output_type": "stream",
     "text": [
      "Enter the wordracecar\n",
      " \"racecar\" is Panlindrome\n"
     ]
    }
   ],
   "source": [
    "text=input('Enter the word')\n",
    "\n",
    "def is_palindrome():\n",
    "    if text == text[::-1]:\n",
    "        print(f' \"{text}\" is Panlindrome')\n",
    "    else:\n",
    "        print(f' \"{text}\" is not Panlindrome')\n",
    "\n",
    "is_palindrome()"
   ]
  }
 ],
 "metadata": {
  "kernelspec": {
   "display_name": "Python 3 (ipykernel)",
   "language": "python",
   "name": "python3"
  },
  "language_info": {
   "codemirror_mode": {
    "name": "ipython",
    "version": 3
   },
   "file_extension": ".py",
   "mimetype": "text/x-python",
   "name": "python",
   "nbconvert_exporter": "python",
   "pygments_lexer": "ipython3",
   "version": "3.9.13"
  }
 },
 "nbformat": 4,
 "nbformat_minor": 5
}
