{
 "cells": [
  {
   "cell_type": "markdown",
   "id": "6939e888-0ee2-4d3e-ac66-98d30c57bc56",
   "metadata": {},
   "source": [
    "## Estimation and Confidence Interval"
   ]
  },
  {
   "cell_type": "markdown",
   "id": "bfcb9935",
   "metadata": {},
   "source": [
    "### A total of 15 print-heads were randomly selected and tested until failure. The durability of each print-head (in millions of characters) was recorded as follows:\n",
    "### 1.13, 1.55, 1.43, 0.92, 1.25, 1.36, 1.32, 0.85, 1.07, 1.48, 1.20, 1.33, 1.18, 1.22, 1.29"
   ]
  },
  {
   "cell_type": "code",
   "execution_count": 1,
   "id": "efe0e770-5cff-4be4-aca8-2397b6b1a26b",
   "metadata": {},
   "outputs": [],
   "source": [
    "# Import the required packages\n",
    "import numpy as np\n",
    "import pandas as pd\n",
    "import scipy.stats as stats"
   ]
  },
  {
   "cell_type": "markdown",
   "id": "c3e830b0-13f1-497e-864a-413f07db870e",
   "metadata": {},
   "source": [
    "### a. Build 99% Confidence Interval Using Sample Standard Deviation"
   ]
  },
  {
   "cell_type": "raw",
   "id": "a316c927-2dde-4b62-888e-4884dfc07416",
   "metadata": {},
   "source": [
    "We have a sample size of 15, from which we can calculate the statistical parameters and use them as estimates for the entire population. The **t-score** method is applied when the sample standard deviation is known. To determine the estimated interval for the population mean, the **t-critical value** is used to calculate the margin of error, which helps define the confidence interval. For this case, the confidence interval is set at 99%."
   ]
  },
  {
   "cell_type": "code",
   "execution_count": 7,
   "id": "93a0bd4c-d750-47eb-84d1-a6ea8b47436b",
   "metadata": {},
   "outputs": [],
   "source": [
    "# Creating an array to store the randomly selected sample. \n",
    "durability = np.array([1.13, 1.55, 1.43, 0.92, 1.25, 1.36, 1.32, 0.85, 1.07, 1.48, 1.20, 1.33, 1.18, 1.22, 1.29])\n",
    "sp_size = 15"
   ]
  },
  {
   "cell_type": "code",
   "execution_count": 4,
   "id": "94c54b44-65e0-41cd-8ecd-5101d8ff7ccb",
   "metadata": {},
   "outputs": [
    {
     "data": {
      "text/plain": [
       "np.float64(1.2386666666666666)"
      ]
     },
     "execution_count": 4,
     "metadata": {},
     "output_type": "execute_result"
    }
   ],
   "source": [
    "sp_mean = durability.mean()\n",
    "sp_mean"
   ]
  },
  {
   "cell_type": "code",
   "execution_count": 5,
   "id": "c79799c0-a657-402c-a542-c5b89e0555d0",
   "metadata": {},
   "outputs": [
    {
     "data": {
      "text/plain": [
       "np.float64(0.18661427836285438)"
      ]
     },
     "execution_count": 5,
     "metadata": {},
     "output_type": "execute_result"
    }
   ],
   "source": [
    "sp_std_dev = durability.std()\n",
    "sp_std_dev"
   ]
  },
  {
   "cell_type": "raw",
   "id": "840af133-5179-4028-9cf7-4d06e8aefcc3",
   "metadata": {},
   "source": [
    "confidence_interval = 0.99\n",
    "alpha = 1 - confidence_interval\n",
    "digree of freedom = sp_size - 1"
   ]
  },
  {
   "cell_type": "code",
   "execution_count": 8,
   "id": "03634f8f-d0bd-44c3-b51c-fa2d538955e1",
   "metadata": {},
   "outputs": [
    {
     "data": {
      "text/plain": [
       "np.float64(2.976842734370834)"
      ]
     },
     "execution_count": 8,
     "metadata": {},
     "output_type": "execute_result"
    }
   ],
   "source": [
    "# Calculating the t_critical\n",
    "t_critical = stats.t.ppf(0.995,14)\n",
    "t_critical"
   ]
  },
  {
   "cell_type": "code",
   "execution_count": 12,
   "id": "d8764add-0e22-41b9-9c4d-3ee923c94836",
   "metadata": {},
   "outputs": [
    {
     "data": {
      "text/plain": [
       "np.float64(0.14343499804054374)"
      ]
     },
     "execution_count": 12,
     "metadata": {},
     "output_type": "execute_result"
    }
   ],
   "source": [
    "moe = (t_critical*sp_std_dev)/np.sqrt(sp_size) # Margin of error \n",
    "moe"
   ]
  },
  {
   "cell_type": "code",
   "execution_count": 13,
   "id": "ac58da6e-b245-461b-8507-a7bf19b7ac4a",
   "metadata": {},
   "outputs": [
    {
     "name": "stdout",
     "output_type": "stream",
     "text": [
      "1.0952316686261228\n",
      "1.3821016647072104\n"
     ]
    }
   ],
   "source": [
    "# Calculating the range of means\n",
    "lower_range = sp_mean - moe\n",
    "upper_range = sp_mean + moe\n",
    "print(lower_range)\n",
    "print(upper_range)"
   ]
  },
  {
   "cell_type": "raw",
   "id": "dbd6e1f6-5498-4f82-b30e-e3728e168723",
   "metadata": {},
   "source": [
    "From the above calculation, we may conclude that the mean of population falls between the range 1.0952316686261228 and 1.3821016647072104."
   ]
  },
  {
   "cell_type": "markdown",
   "id": "5f6901dd-9ab2-4203-b4fc-b38303a4b5aa",
   "metadata": {},
   "source": [
    "### b. Build 99% Confidence Interval Using Known Population Standard Deviation"
   ]
  },
  {
   "cell_type": "raw",
   "id": "4b27f9d0-5a3c-44a3-b2e1-2b8b7bcda713",
   "metadata": {},
   "source": [
    "Here we have the population standard deviation, and a confidence interval of 99%. We can use Z_score method to calculate the estimated range where the population mean lies. Same as previous method Z_critical can be calculated for the confidence interval. And then margin of error, from which the range can be calculated. "
   ]
  },
  {
   "cell_type": "code",
   "execution_count": 15,
   "id": "a384b923-b9ec-4de2-84d3-521f01805b46",
   "metadata": {},
   "outputs": [],
   "source": [
    "pop_std_dev = 0.2"
   ]
  },
  {
   "cell_type": "code",
   "execution_count": 20,
   "id": "15c09f0c-8540-4c92-9cde-947a599ed6f3",
   "metadata": {},
   "outputs": [
    {
     "data": {
      "text/plain": [
       "np.float64(2.5758293035489004)"
      ]
     },
     "execution_count": 20,
     "metadata": {},
     "output_type": "execute_result"
    }
   ],
   "source": [
    "# Calculating the Z_critical value for the range (1-alpha/2), where alpha = 1-confidence interval\n",
    "z_critical=stats.norm.ppf(0.995)\n",
    "z_critical"
   ]
  },
  {
   "cell_type": "code",
   "execution_count": 21,
   "id": "b50806f3-8cef-4427-95cf-5c45c72329d1",
   "metadata": {},
   "outputs": [
    {
     "data": {
      "text/plain": [
       "np.float64(0.13301525327090588)"
      ]
     },
     "execution_count": 21,
     "metadata": {},
     "output_type": "execute_result"
    }
   ],
   "source": [
    "z_moe = (z_critical*pop_std_dev)/np.sqrt(sp_size)\n",
    "z_moe"
   ]
  },
  {
   "cell_type": "code",
   "execution_count": 22,
   "id": "67ae592c-c977-4296-9279-14088a3340bd",
   "metadata": {},
   "outputs": [
    {
     "name": "stdout",
     "output_type": "stream",
     "text": [
      "1.1056514133957607\n",
      "1.3716819199375725\n"
     ]
    }
   ],
   "source": [
    "lower_range_z = sp_mean - z_moe\n",
    "upper_range_z = sp_mean + z_moe\n",
    "print(lower_range_z)\n",
    "print(upper_range_z)"
   ]
  },
  {
   "cell_type": "raw",
   "id": "ab05579b-0e3e-4120-92cc-0aa9ffd17d6d",
   "metadata": {},
   "source": [
    "From the above calculation, we may conclude that the mean of population falls between the range 1.1056514133957607 and 1.3716819199375725"
   ]
  }
 ],
 "metadata": {
  "kernelspec": {
   "display_name": "Python 3 (ipykernel)",
   "language": "python",
   "name": "python3"
  },
  "language_info": {
   "codemirror_mode": {
    "name": "ipython",
    "version": 3
   },
   "file_extension": ".py",
   "mimetype": "text/x-python",
   "name": "python",
   "nbconvert_exporter": "python",
   "pygments_lexer": "ipython3",
   "version": "3.9.13"
  }
 },
 "nbformat": 4,
 "nbformat_minor": 5
}
