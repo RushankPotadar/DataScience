{
 "cells": [
  {
   "cell_type": "code",
   "execution_count": 1,
   "id": "f104ca35",
   "metadata": {},
   "outputs": [],
   "source": [
    "import pandas as pd\n",
    "import numpy as np\n",
    "from sklearn.metrics.pairwise import cosine_similarity\n",
    "from sklearn.preprocessing import MinMaxScaler, MultiLabelBinarizer\n",
    "from sklearn.model_selection import train_test_split\n",
    "from sklearn.metrics import precision_score, recall_score, f1_score"
   ]
  },
  {
   "cell_type": "code",
   "execution_count": 2,
   "id": "1b31fe62",
   "metadata": {},
   "outputs": [],
   "source": [
    "# Load dataset\n",
    "df = pd.read_csv('anime.csv')"
   ]
  },
  {
   "cell_type": "code",
   "execution_count": 3,
   "id": "3d3232ff",
   "metadata": {},
   "outputs": [
    {
     "data": {
      "text/html": [
       "<div>\n",
       "<style scoped>\n",
       "    .dataframe tbody tr th:only-of-type {\n",
       "        vertical-align: middle;\n",
       "    }\n",
       "\n",
       "    .dataframe tbody tr th {\n",
       "        vertical-align: top;\n",
       "    }\n",
       "\n",
       "    .dataframe thead th {\n",
       "        text-align: right;\n",
       "    }\n",
       "</style>\n",
       "<table border=\"1\" class=\"dataframe\">\n",
       "  <thead>\n",
       "    <tr style=\"text-align: right;\">\n",
       "      <th></th>\n",
       "      <th>anime_id</th>\n",
       "      <th>name</th>\n",
       "      <th>genre</th>\n",
       "      <th>type</th>\n",
       "      <th>episodes</th>\n",
       "      <th>rating</th>\n",
       "      <th>members</th>\n",
       "    </tr>\n",
       "  </thead>\n",
       "  <tbody>\n",
       "    <tr>\n",
       "      <th>0</th>\n",
       "      <td>32281</td>\n",
       "      <td>Kimi no Na wa.</td>\n",
       "      <td>Drama, Romance, School, Supernatural</td>\n",
       "      <td>Movie</td>\n",
       "      <td>1</td>\n",
       "      <td>9.37</td>\n",
       "      <td>200630</td>\n",
       "    </tr>\n",
       "    <tr>\n",
       "      <th>1</th>\n",
       "      <td>5114</td>\n",
       "      <td>Fullmetal Alchemist: Brotherhood</td>\n",
       "      <td>Action, Adventure, Drama, Fantasy, Magic, Mili...</td>\n",
       "      <td>TV</td>\n",
       "      <td>64</td>\n",
       "      <td>9.26</td>\n",
       "      <td>793665</td>\n",
       "    </tr>\n",
       "    <tr>\n",
       "      <th>2</th>\n",
       "      <td>28977</td>\n",
       "      <td>Gintama°</td>\n",
       "      <td>Action, Comedy, Historical, Parody, Samurai, S...</td>\n",
       "      <td>TV</td>\n",
       "      <td>51</td>\n",
       "      <td>9.25</td>\n",
       "      <td>114262</td>\n",
       "    </tr>\n",
       "    <tr>\n",
       "      <th>3</th>\n",
       "      <td>9253</td>\n",
       "      <td>Steins;Gate</td>\n",
       "      <td>Sci-Fi, Thriller</td>\n",
       "      <td>TV</td>\n",
       "      <td>24</td>\n",
       "      <td>9.17</td>\n",
       "      <td>673572</td>\n",
       "    </tr>\n",
       "    <tr>\n",
       "      <th>4</th>\n",
       "      <td>9969</td>\n",
       "      <td>Gintama&amp;#039;</td>\n",
       "      <td>Action, Comedy, Historical, Parody, Samurai, S...</td>\n",
       "      <td>TV</td>\n",
       "      <td>51</td>\n",
       "      <td>9.16</td>\n",
       "      <td>151266</td>\n",
       "    </tr>\n",
       "  </tbody>\n",
       "</table>\n",
       "</div>"
      ],
      "text/plain": [
       "   anime_id                              name  \\\n",
       "0     32281                    Kimi no Na wa.   \n",
       "1      5114  Fullmetal Alchemist: Brotherhood   \n",
       "2     28977                          Gintama°   \n",
       "3      9253                       Steins;Gate   \n",
       "4      9969                     Gintama&#039;   \n",
       "\n",
       "                                               genre   type episodes  rating  \\\n",
       "0               Drama, Romance, School, Supernatural  Movie        1    9.37   \n",
       "1  Action, Adventure, Drama, Fantasy, Magic, Mili...     TV       64    9.26   \n",
       "2  Action, Comedy, Historical, Parody, Samurai, S...     TV       51    9.25   \n",
       "3                                   Sci-Fi, Thriller     TV       24    9.17   \n",
       "4  Action, Comedy, Historical, Parody, Samurai, S...     TV       51    9.16   \n",
       "\n",
       "   members  \n",
       "0   200630  \n",
       "1   793665  \n",
       "2   114262  \n",
       "3   673572  \n",
       "4   151266  "
      ]
     },
     "execution_count": 3,
     "metadata": {},
     "output_type": "execute_result"
    }
   ],
   "source": [
    "df.head()"
   ]
  },
  {
   "cell_type": "code",
   "execution_count": 4,
   "id": "c07f30f5",
   "metadata": {},
   "outputs": [
    {
     "name": "stdout",
     "output_type": "stream",
     "text": [
      "<class 'pandas.core.frame.DataFrame'>\n",
      "RangeIndex: 12294 entries, 0 to 12293\n",
      "Data columns (total 7 columns):\n",
      " #   Column    Non-Null Count  Dtype  \n",
      "---  ------    --------------  -----  \n",
      " 0   anime_id  12294 non-null  int64  \n",
      " 1   name      12294 non-null  object \n",
      " 2   genre     12232 non-null  object \n",
      " 3   type      12269 non-null  object \n",
      " 4   episodes  12294 non-null  object \n",
      " 5   rating    12064 non-null  float64\n",
      " 6   members   12294 non-null  int64  \n",
      "dtypes: float64(1), int64(2), object(4)\n",
      "memory usage: 672.5+ KB\n"
     ]
    }
   ],
   "source": [
    "df.info()"
   ]
  },
  {
   "cell_type": "code",
   "execution_count": 5,
   "id": "92ab1a2e",
   "metadata": {},
   "outputs": [
    {
     "data": {
      "text/html": [
       "<div>\n",
       "<style scoped>\n",
       "    .dataframe tbody tr th:only-of-type {\n",
       "        vertical-align: middle;\n",
       "    }\n",
       "\n",
       "    .dataframe tbody tr th {\n",
       "        vertical-align: top;\n",
       "    }\n",
       "\n",
       "    .dataframe thead th {\n",
       "        text-align: right;\n",
       "    }\n",
       "</style>\n",
       "<table border=\"1\" class=\"dataframe\">\n",
       "  <thead>\n",
       "    <tr style=\"text-align: right;\">\n",
       "      <th></th>\n",
       "      <th>anime_id</th>\n",
       "      <th>rating</th>\n",
       "      <th>members</th>\n",
       "    </tr>\n",
       "  </thead>\n",
       "  <tbody>\n",
       "    <tr>\n",
       "      <th>count</th>\n",
       "      <td>12294.000000</td>\n",
       "      <td>12064.000000</td>\n",
       "      <td>1.229400e+04</td>\n",
       "    </tr>\n",
       "    <tr>\n",
       "      <th>mean</th>\n",
       "      <td>14058.221653</td>\n",
       "      <td>6.473902</td>\n",
       "      <td>1.807134e+04</td>\n",
       "    </tr>\n",
       "    <tr>\n",
       "      <th>std</th>\n",
       "      <td>11455.294701</td>\n",
       "      <td>1.026746</td>\n",
       "      <td>5.482068e+04</td>\n",
       "    </tr>\n",
       "    <tr>\n",
       "      <th>min</th>\n",
       "      <td>1.000000</td>\n",
       "      <td>1.670000</td>\n",
       "      <td>5.000000e+00</td>\n",
       "    </tr>\n",
       "    <tr>\n",
       "      <th>25%</th>\n",
       "      <td>3484.250000</td>\n",
       "      <td>5.880000</td>\n",
       "      <td>2.250000e+02</td>\n",
       "    </tr>\n",
       "    <tr>\n",
       "      <th>50%</th>\n",
       "      <td>10260.500000</td>\n",
       "      <td>6.570000</td>\n",
       "      <td>1.550000e+03</td>\n",
       "    </tr>\n",
       "    <tr>\n",
       "      <th>75%</th>\n",
       "      <td>24794.500000</td>\n",
       "      <td>7.180000</td>\n",
       "      <td>9.437000e+03</td>\n",
       "    </tr>\n",
       "    <tr>\n",
       "      <th>max</th>\n",
       "      <td>34527.000000</td>\n",
       "      <td>10.000000</td>\n",
       "      <td>1.013917e+06</td>\n",
       "    </tr>\n",
       "  </tbody>\n",
       "</table>\n",
       "</div>"
      ],
      "text/plain": [
       "           anime_id        rating       members\n",
       "count  12294.000000  12064.000000  1.229400e+04\n",
       "mean   14058.221653      6.473902  1.807134e+04\n",
       "std    11455.294701      1.026746  5.482068e+04\n",
       "min        1.000000      1.670000  5.000000e+00\n",
       "25%     3484.250000      5.880000  2.250000e+02\n",
       "50%    10260.500000      6.570000  1.550000e+03\n",
       "75%    24794.500000      7.180000  9.437000e+03\n",
       "max    34527.000000     10.000000  1.013917e+06"
      ]
     },
     "execution_count": 5,
     "metadata": {},
     "output_type": "execute_result"
    }
   ],
   "source": [
    "df.describe()"
   ]
  },
  {
   "cell_type": "code",
   "execution_count": 6,
   "id": "b1754769",
   "metadata": {},
   "outputs": [
    {
     "data": {
      "text/plain": [
       "anime_id      0\n",
       "name          0\n",
       "genre        62\n",
       "type         25\n",
       "episodes      0\n",
       "rating      230\n",
       "members       0\n",
       "dtype: int64"
      ]
     },
     "execution_count": 6,
     "metadata": {},
     "output_type": "execute_result"
    }
   ],
   "source": [
    "df.isnull().sum()"
   ]
  },
  {
   "cell_type": "code",
   "execution_count": 7,
   "id": "1ff484b1",
   "metadata": {},
   "outputs": [],
   "source": [
    "# Handle Missing Values\n",
    "df['type'] = df['type'].fillna('Unknown')\n",
    "df.dropna(subset=['anime_id', 'type', 'rating'], inplace=True)\n",
    "df['genre'] = df['genre'].fillna('Unknown')"
   ]
  },
  {
   "cell_type": "code",
   "execution_count": 8,
   "id": "fc42c95f",
   "metadata": {},
   "outputs": [],
   "source": [
    "# Reset index to align with cosine_sim\n",
    "df.reset_index(drop=True, inplace=True)"
   ]
  },
  {
   "cell_type": "code",
   "execution_count": 9,
   "id": "193d95a8",
   "metadata": {},
   "outputs": [],
   "source": [
    "# Process Genres (One-Hot Encoding)\n",
    "df['genre'] = df['genre'].str.split(', ')\n",
    "mlb = MultiLabelBinarizer()\n",
    "genres_encoded = mlb.fit_transform(df['genre'])"
   ]
  },
  {
   "cell_type": "code",
   "execution_count": 10,
   "id": "fcc8bea5",
   "metadata": {},
   "outputs": [],
   "source": [
    "# One-Hot Encode Anime Type\n",
    "type_encoded = pd.get_dummies(df['type'], prefix='type')"
   ]
  },
  {
   "cell_type": "code",
   "execution_count": 11,
   "id": "dd24083b",
   "metadata": {},
   "outputs": [],
   "source": [
    "# Scale Numerical Features\n",
    "scaler = MinMaxScaler()\n",
    "df['rating_scaled'] = scaler.fit_transform(df[['rating']])\n",
    "df['community_members'] = scaler.fit_transform(df[['members']])"
   ]
  },
  {
   "cell_type": "code",
   "execution_count": 12,
   "id": "4ef3e3b4",
   "metadata": {},
   "outputs": [],
   "source": [
    "# Combine Features for Similarity Calculation\n",
    "features = np.hstack((\n",
    "    genres_encoded,\n",
    "    type_encoded.values,\n",
    "    df[['rating_scaled', 'community_members']].values\n",
    "))"
   ]
  },
  {
   "cell_type": "code",
   "execution_count": 13,
   "id": "6497ab52",
   "metadata": {},
   "outputs": [],
   "source": [
    "# Compute Cosine Similarity\n",
    "cosine_sim = cosine_similarity(features)"
   ]
  },
  {
   "cell_type": "code",
   "execution_count": 14,
   "id": "aa03df18",
   "metadata": {},
   "outputs": [],
   "source": [
    "# Function to Recommend Anime Based on Cosine Similarity\n",
    "def recommend_anime(target_anime_id, cosine_sim, top_n=5):\n",
    "    if target_anime_id not in df['anime_id'].values:\n",
    "        return []\n",
    "    \n",
    "    target_idx = df.index[df['anime_id'] == target_anime_id].tolist()\n",
    "    \n",
    "    if not target_idx:\n",
    "        return []\n",
    "    \n",
    "    target_idx = target_idx[0]\n",
    "    \n",
    "    sim_scores = list(enumerate(cosine_sim[target_idx]))\n",
    "    sim_scores = sorted(sim_scores, key=lambda x: x[1], reverse=True)\n",
    "    \n",
    "    top_indices = [i[0] for i in sim_scores[1:top_n+1]]\n",
    "    \n",
    "    return df.iloc[top_indices][['anime_id', 'name', 'type', 'rating', 'genre']]"
   ]
  },
  {
   "cell_type": "code",
   "execution_count": 15,
   "id": "d131d618",
   "metadata": {},
   "outputs": [],
   "source": [
    "# Split Dataset for Evaluation\n",
    "train, test = train_test_split(df, test_size=0.2, random_state=42)"
   ]
  },
  {
   "cell_type": "code",
   "execution_count": 16,
   "id": "8db9d329",
   "metadata": {},
   "outputs": [],
   "source": [
    "# Generate Predictions\n",
    "y_true = test['anime_id']\n",
    "y_pred = [recommend_anime(anime_id, cosine_sim) for anime_id in y_true]"
   ]
  },
  {
   "cell_type": "code",
   "execution_count": 17,
   "id": "88e85681",
   "metadata": {},
   "outputs": [],
   "source": [
    "# Convert y_true and y_pred into a comparable format\n",
    "y_true_set = [{anime_id} for anime_id in y_true]\n",
    "y_pred_set = [set(pred['anime_id']) if isinstance(pred, pd.DataFrame) else set() for pred in y_pred]"
   ]
  },
  {
   "cell_type": "code",
   "execution_count": 18,
   "id": "c1a8d159",
   "metadata": {},
   "outputs": [],
   "source": [
    "# Convert to binary labels for evaluation (1 = relevant recommendation, 0 = not relevant)\n",
    "y_true_binary = []\n",
    "y_pred_binary = []\n",
    "\n",
    "for true, pred in zip(y_true_set, y_pred_set):\n",
    "    y_true_binary.append(1 if true.intersection(pred) else 0)\n",
    "    y_pred_binary.append(1 if len(pred) > 0 else 0)"
   ]
  },
  {
   "cell_type": "code",
   "execution_count": 19,
   "id": "04419e22",
   "metadata": {},
   "outputs": [],
   "source": [
    "# Calculate Precision, Recall, and F1-score\n",
    "precision = precision_score(y_true_binary, y_pred_binary, zero_division=1)\n",
    "recall = recall_score(y_true_binary, y_pred_binary, zero_division=1)\n",
    "f1 = f1_score(y_true_binary, y_pred_binary, zero_division=1)"
   ]
  },
  {
   "cell_type": "code",
   "execution_count": 20,
   "id": "04f308ad",
   "metadata": {},
   "outputs": [
    {
     "name": "stdout",
     "output_type": "stream",
     "text": [
      "\n",
      "Evaluation Metrics:\n",
      "Precision: 0.0012\n",
      "Recall: 1.0000\n",
      "F1 Score: 0.0025\n"
     ]
    }
   ],
   "source": [
    "# Display Evaluation Results\n",
    "print(\"\\nEvaluation Metrics:\")\n",
    "print(f\"Precision: {precision:.4f}\")\n",
    "print(f\"Recall: {recall:.4f}\")\n",
    "print(f\"F1 Score: {f1:.4f}\")"
   ]
  },
  {
   "cell_type": "markdown",
   "id": "3e94385a-ddfc-4b7a-ab87-394f11ef744e",
   "metadata": {},
   "source": [
    "## Interview Questions:"
   ]
  },
  {
   "cell_type": "markdown",
   "id": "894c7446",
   "metadata": {},
   "source": [
    "### 1. Difference Between User-Based and Item-Based Collaborative Filtering**  \n",
    "- User-Based Collaborative Filtering: Recommends items based on the preferences of users who have similar tastes. It finds users with similar behavior and suggests items that those similar users liked.  \n",
    "- Item-Based Collaborative Filtering: Recommends items based on similarity between items rather than users. It finds relationships between items based on user interactions and suggests items that are frequently liked together.  \n",
    "\n",
    "\n",
    "### 2. What is Collaborative Filtering and How Does It Work?**  \n",
    "Collaborative filtering is a recommendation technique that predicts a user’s interests based on past behaviors and preferences of similar users.  \n",
    "- Working:  \n",
    "  - It collects user-item interactions (e.g., ratings, purchases).  \n",
    "  - Identifies similarities either between **users** (user-based) or **items** (item-based).  \n",
    "  - Generates personalized recommendations by suggesting items liked by similar users or similar items to those previously interacted with.  \n"
   ]
  }
 ],
 "metadata": {
  "kernelspec": {
   "display_name": "Python 3 (ipykernel)",
   "language": "python",
   "name": "python3"
  },
  "language_info": {
   "codemirror_mode": {
    "name": "ipython",
    "version": 3
   },
   "file_extension": ".py",
   "mimetype": "text/x-python",
   "name": "python",
   "nbconvert_exporter": "python",
   "pygments_lexer": "ipython3",
   "version": "3.9.13"
  }
 },
 "nbformat": 4,
 "nbformat_minor": 5
}
