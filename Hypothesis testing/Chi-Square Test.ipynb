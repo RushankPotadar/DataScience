{
 "cells": [
  {
   "cell_type": "markdown",
   "id": "519a97b8-4540-433c-992a-299c1b204114",
   "metadata": {},
   "source": [
    "## Chi Square Test"
   ]
  },
  {
   "cell_type": "raw",
   "id": "eb483536-8410-476a-ad93-8e225059836a",
   "metadata": {},
   "source": [
    "Association between Device Type and Customer Satisfaction\n",
    "Background:\n",
    "Mizzare Corporation has collected data on customer satisfaction levels for two types of smart home devices: Smart Thermostats and Smart Lights. They want to determine if there's a significant association between the type of device purchased and the customer's satisfaction level.\n",
    "Data Provided:\n",
    "The data is summarized in a contingency table showing the counts of customers in each satisfaction level for both types of devices:\n",
    "Satisfaction\t   Smart Thermostat\t   Smart Light\t  Total\n",
    "Very Satisfied\t   50\t               70\t          120\n",
    "Satisfied\t       80\t               100\t          180\n",
    "Neutral\t           60\t               90\t          150\n",
    "Unsatisfied\t       30 \t               50\t          80\n",
    "Very Unsatisfied   20\t               50\t          70\n",
    "Total\t           240\t               360\t          600\n",
    "Objective:\n",
    "To use the Chi-Square test for independence to determine if there's a significant association between the type of smart home device purchased (Smart Thermostats vs. Smart Lights) and the customer satisfaction level.\n",
    "Assignment Tasks:\n",
    "1. State the Hypotheses:\n",
    "2. Compute the Chi-Square Statistic:\n",
    "3. Determine the Critical Value:\n",
    "Using the significance level (alpha) of 0.05 and the degrees of freedom (which is the number of categories minus 1)\n",
    "4. Make a Decision:\n",
    "Compare the Chi-Square statistic with the critical value to decide whether to reject the null hypothesis.\n",
    "Submission Guidelines:\n",
    "•\tProvide a detailed report of your analysis, including each step outlined in the assignment tasks in a python file.\n",
    "•\tInclude all calculations, the Chi-Square statistic, the critical value, and your conclusion.\n"
   ]
  },
  {
   "cell_type": "raw",
   "id": "3f640100-894d-4c9f-89c5-831193e55556",
   "metadata": {},
   "source": [
    "The hypotheses statements :-\n",
    "# Ho = There is no significance association between the type of smart home device purchased and the customer satisfaction level.\n",
    "# Ha = There is a significance association between the type of smart home device purchased and the customer satisfaction level. "
   ]
  },
  {
   "cell_type": "code",
   "execution_count": 1,
   "id": "81580391-31be-4484-a211-64434e3c9bed",
   "metadata": {},
   "outputs": [],
   "source": [
    "import numpy as np\n",
    "import pandas as pd\n",
    "import scipy.stats as stats"
   ]
  },
  {
   "cell_type": "code",
   "execution_count": 2,
   "id": "3c196dc2-544c-4b41-a7b9-3e53be48d0d1",
   "metadata": {},
   "outputs": [],
   "source": [
    "# creating a dictionary to form the data frame\n",
    "dict = { 'Satisfaction':['Very Satisfied','Satisfied','Neutral','Unsatisfied','Very Unsatisfied'],'Smart Thermostats':[50,80,60,30,20],\n",
    "         'Smart Light':[70,100,90,50,50] }"
   ]
  },
  {
   "cell_type": "code",
   "execution_count": 3,
   "id": "789564f8-6632-4eff-a203-d01a856754f3",
   "metadata": {},
   "outputs": [
    {
     "data": {
      "text/html": [
       "<div>\n",
       "<style scoped>\n",
       "    .dataframe tbody tr th:only-of-type {\n",
       "        vertical-align: middle;\n",
       "    }\n",
       "\n",
       "    .dataframe tbody tr th {\n",
       "        vertical-align: top;\n",
       "    }\n",
       "\n",
       "    .dataframe thead th {\n",
       "        text-align: right;\n",
       "    }\n",
       "</style>\n",
       "<table border=\"1\" class=\"dataframe\">\n",
       "  <thead>\n",
       "    <tr style=\"text-align: right;\">\n",
       "      <th></th>\n",
       "      <th>Satisfaction</th>\n",
       "      <th>Smart Thermostats</th>\n",
       "      <th>Smart Light</th>\n",
       "    </tr>\n",
       "  </thead>\n",
       "  <tbody>\n",
       "    <tr>\n",
       "      <th>0</th>\n",
       "      <td>Very Satisfied</td>\n",
       "      <td>50</td>\n",
       "      <td>70</td>\n",
       "    </tr>\n",
       "    <tr>\n",
       "      <th>1</th>\n",
       "      <td>Satisfied</td>\n",
       "      <td>80</td>\n",
       "      <td>100</td>\n",
       "    </tr>\n",
       "    <tr>\n",
       "      <th>2</th>\n",
       "      <td>Neutral</td>\n",
       "      <td>60</td>\n",
       "      <td>90</td>\n",
       "    </tr>\n",
       "    <tr>\n",
       "      <th>3</th>\n",
       "      <td>Unsatisfied</td>\n",
       "      <td>30</td>\n",
       "      <td>50</td>\n",
       "    </tr>\n",
       "    <tr>\n",
       "      <th>4</th>\n",
       "      <td>Very Unsatisfied</td>\n",
       "      <td>20</td>\n",
       "      <td>50</td>\n",
       "    </tr>\n",
       "  </tbody>\n",
       "</table>\n",
       "</div>"
      ],
      "text/plain": [
       "       Satisfaction  Smart Thermostats  Smart Light\n",
       "0    Very Satisfied                 50           70\n",
       "1         Satisfied                 80          100\n",
       "2           Neutral                 60           90\n",
       "3       Unsatisfied                 30           50\n",
       "4  Very Unsatisfied                 20           50"
      ]
     },
     "execution_count": 3,
     "metadata": {},
     "output_type": "execute_result"
    }
   ],
   "source": [
    "df = pd.DataFrame(dict)\n",
    "df"
   ]
  },
  {
   "cell_type": "code",
   "execution_count": 4,
   "id": "1f3b668b-ded8-4246-91a6-3002fe43c04d",
   "metadata": {},
   "outputs": [
    {
     "data": {
      "text/html": [
       "<div>\n",
       "<style scoped>\n",
       "    .dataframe tbody tr th:only-of-type {\n",
       "        vertical-align: middle;\n",
       "    }\n",
       "\n",
       "    .dataframe tbody tr th {\n",
       "        vertical-align: top;\n",
       "    }\n",
       "\n",
       "    .dataframe thead th {\n",
       "        text-align: right;\n",
       "    }\n",
       "</style>\n",
       "<table border=\"1\" class=\"dataframe\">\n",
       "  <thead>\n",
       "    <tr style=\"text-align: right;\">\n",
       "      <th></th>\n",
       "      <th>Smart Thermostats</th>\n",
       "      <th>Smart Light</th>\n",
       "    </tr>\n",
       "  </thead>\n",
       "  <tbody>\n",
       "    <tr>\n",
       "      <th>0</th>\n",
       "      <td>50</td>\n",
       "      <td>70</td>\n",
       "    </tr>\n",
       "    <tr>\n",
       "      <th>1</th>\n",
       "      <td>80</td>\n",
       "      <td>100</td>\n",
       "    </tr>\n",
       "    <tr>\n",
       "      <th>2</th>\n",
       "      <td>60</td>\n",
       "      <td>90</td>\n",
       "    </tr>\n",
       "    <tr>\n",
       "      <th>3</th>\n",
       "      <td>30</td>\n",
       "      <td>50</td>\n",
       "    </tr>\n",
       "    <tr>\n",
       "      <th>4</th>\n",
       "      <td>20</td>\n",
       "      <td>50</td>\n",
       "    </tr>\n",
       "  </tbody>\n",
       "</table>\n",
       "</div>"
      ],
      "text/plain": [
       "   Smart Thermostats  Smart Light\n",
       "0                 50           70\n",
       "1                 80          100\n",
       "2                 60           90\n",
       "3                 30           50\n",
       "4                 20           50"
      ]
     },
     "execution_count": 4,
     "metadata": {},
     "output_type": "execute_result"
    }
   ],
   "source": [
    "df1 = df.select_dtypes(include = np.number) # filtering the numerical columns from the above data frame.\n",
    "df1"
   ]
  },
  {
   "cell_type": "raw",
   "id": "2975bbe0-5012-4110-8588-297e1d9eb9b5",
   "metadata": {},
   "source": [
    "## Computing the Chi_square stats value, which is summation of[square of ((observed value) - (expected value))/ expected value], but can be compute using prebuilt package."
   ]
  },
  {
   "cell_type": "code",
   "execution_count": 5,
   "id": "34d779fb-bf05-4147-9853-e32d2e4943d2",
   "metadata": {},
   "outputs": [
    {
     "data": {
      "text/plain": [
       "Chi2ContingencyResult(statistic=np.float64(5.638227513227513), pvalue=np.float64(0.22784371130697179), dof=4, expected_freq=array([[ 48.,  72.],\n",
       "       [ 72., 108.],\n",
       "       [ 60.,  90.],\n",
       "       [ 32.,  48.],\n",
       "       [ 28.,  42.]]))"
      ]
     },
     "execution_count": 5,
     "metadata": {},
     "output_type": "execute_result"
    }
   ],
   "source": [
    "chi_stats = stats.chi2_contingency(df1) \n",
    "chi_stats"
   ]
  },
  {
   "cell_type": "code",
   "execution_count": null,
   "id": "86424ab2",
   "metadata": {},
   "outputs": [],
   "source": [
    "## Computing the Chi_square critical value "
   ]
  },
  {
   "cell_type": "raw",
   "id": "78da3091-0952-48d7-8cac-981c552f0326",
   "metadata": {},
   "source": [
    "Significant lavel (alpha) = 0.05 ##Given in the question\n",
    "Degree of freedom = (no. of columns - 1)(no. of rows - 1) = (2-1)(5-1) = 4 # Already calculated in the above function"
   ]
  },
  {
   "cell_type": "code",
   "execution_count": 6,
   "id": "b7da799d-c67c-4305-b3bc-ee43ff9ca82e",
   "metadata": {},
   "outputs": [
    {
     "data": {
      "text/plain": [
       "np.float64(9.487729036781154)"
      ]
     },
     "execution_count": 6,
     "metadata": {},
     "output_type": "execute_result"
    }
   ],
   "source": [
    "# chi_critical value\n",
    "Chi_critical = stats.chi2.ppf(0.95,4)\n",
    "Chi_critical"
   ]
  },
  {
   "cell_type": "markdown",
   "id": "1f3912d1-6384-405c-90ba-f3e279886aba",
   "metadata": {},
   "source": [
    "### Conclusion"
   ]
  },
  {
   "cell_type": "raw",
   "id": "66c18237-ee63-4c6e-923a-001324c56550",
   "metadata": {},
   "source": [
    "From the above calculation\n",
    "    we have, Chi_stats = 5.638227513227513\n",
    "        and, Chi_critical   = 9.487729036781154\n",
    "Since, the Chi_stats value is less than the critical value (and also the p_value is more than the significant level), we failed to reject the null hypothesis.\n",
    "i:e There is no significance association between the type of smart home device purchased and the customer satisfaction level."
   ]
  }
 ],
 "metadata": {
  "kernelspec": {
   "display_name": "Python 3 (ipykernel)",
   "language": "python",
   "name": "python3"
  },
  "language_info": {
   "codemirror_mode": {
    "name": "ipython",
    "version": 3
   },
   "file_extension": ".py",
   "mimetype": "text/x-python",
   "name": "python",
   "nbconvert_exporter": "python",
   "pygments_lexer": "ipython3",
   "version": "3.9.13"
  }
 },
 "nbformat": 4,
 "nbformat_minor": 5
}
