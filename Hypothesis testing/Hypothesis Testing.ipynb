{
 "cells": [
  {
   "cell_type": "markdown",
   "id": "d5414774-1385-41b4-9f04-d740a5053503",
   "metadata": {},
   "source": [
    "## Hypothesis Testing"
   ]
  },
  {
   "cell_type": "raw",
   "id": "9ebc598c-c708-4931-b5a8-68c09742694a",
   "metadata": {},
   "source": [
    "Objective:\n",
    "To investigate the restaurant owners' claim about the increase in weekly operating costs using hypothesis testing.\n",
    "Data Provided:\n",
    "•\tThe theoretical weekly operating cost model: W = $1,000 + $5X\n",
    "•\tSample of 25 restaurants with a mean weekly cost of Rs. 3,050\n",
    "•\tNumber of units produced in a week (X) follows a normal distribution with a mean (μ) of 600 units and a standard deviation (σ) of 25 units\n",
    "Assignment Tasks:\n",
    "1. State the Hypotheses statement:\n",
    "2. Calculate the Test Statistic:\n",
    "Use the following formula to calculate the test statistic (t):\n",
    "where:\n",
    "•\tˉxˉ = sample mean weekly cost (Rs. 3,050)\n",
    "•\tμ = theoretical mean weekly cost according to the cost model (W = $1,000 + $5X for X = 600 units)\n",
    "•\tσ = 5*25 units\n",
    "•\tn = sample size (25 restaurants)\n",
    "3. Determine the Critical Value:\n",
    "Using the alpha level of 5% (α = 0.05), determine the critical value from the standard normal (Z) distribution table.\n",
    "4. Make a Decision:\n",
    "5. Conclusion:\n",
    "\n"
   ]
  },
  {
   "cell_type": "code",
   "execution_count": 1,
   "id": "073d6e2e-0fc0-4adf-b180-51a5748793d4",
   "metadata": {},
   "outputs": [],
   "source": [
    "import numpy as np\n",
    "import scipy.stats as stats"
   ]
  },
  {
   "cell_type": "raw",
   "id": "8f54eba5",
   "metadata": {},
   "source": [
    "1. Hypothesis statement\n",
    "Ho = The operating cost model is accurate.   ( Null Hypothesis)\n",
    "Ha = The operating cost model is not accurate, and the weekly operating costs are higher.  (Alternative hypothesis)"
   ]
  },
  {
   "cell_type": "code",
   "execution_count": 2,
   "id": "69e0c54a-cba5-4738-8cbf-bbe7acdafde2",
   "metadata": {},
   "outputs": [],
   "source": [
    "## Given data\n",
    "## W = 1000 + 5X              # Weekly operating cost, where X is number of units produced in a week.\n",
    "Sample_size = 25\n",
    "Sample_mean = 3050\n",
    "X = 600                                               # No. of units produced in a week.\n",
    "## Population standard deviation of X = 25\n",
    "pop_std = 5 * 25                                        # Population standard deviation of W\n",
    "pop_mean = 1000 + 5 * 600"
   ]
  },
  {
   "cell_type": "code",
   "execution_count": 8,
   "id": "81380c07-f40e-4ea8-a054-2698b22798d6",
   "metadata": {},
   "outputs": [
    {
     "data": {
      "text/plain": [
       "np.float64(-38.0)"
      ]
     },
     "execution_count": 8,
     "metadata": {},
     "output_type": "execute_result"
    }
   ],
   "source": [
    "## 2. Calculating the Zscore, since population standard deviation is known\n",
    "z_score = (Sample_mean - pop_mean)/(pop_std/np.sqrt(Sample_size))\n",
    "z_score"
   ]
  },
  {
   "cell_type": "code",
   "execution_count": 9,
   "id": "20962a4a-0136-425d-b8a0-a0b85092a9e9",
   "metadata": {},
   "outputs": [
    {
     "data": {
      "text/plain": [
       "np.float64(-1.6448536269514729)"
      ]
     },
     "execution_count": 9,
     "metadata": {},
     "output_type": "execute_result"
    }
   ],
   "source": [
    "## 3. Calculating Zcritical for alpha level of 5% (0.05)\n",
    "z_critical = stats.norm.ppf(0.05)\n",
    "z_critical"
   ]
  },
  {
   "cell_type": "code",
   "execution_count": null,
   "id": "cbc44a8c",
   "metadata": {},
   "outputs": [],
   "source": [
    "## 4. Decision making\n",
    "## Since Z score is much less than Z critical value in the negetive side, we reject the Null hypothesis(Ho).\n",
    "## Ha = The operating cost model is not accurate, and the weekly operating costs are higher."
   ]
  },
  {
   "cell_type": "raw",
   "id": "e5d4ae7b",
   "metadata": {},
   "source": [
    "5. Conclusion\n",
    "from the above calculation we see that the z_score value falls in negetive and it is outside the critical range of -1.6 to 1.6,\n",
    "This indicates that the operating cost model is not accurate, and the weekly operating costs are higher.\n",
    "so we conclude that the observation from the owners are correct i.e the weekly operating costs are higher than the model suggests"
   ]
  }
 ],
 "metadata": {
  "kernelspec": {
   "display_name": "Python 3 (ipykernel)",
   "language": "python",
   "name": "python3"
  },
  "language_info": {
   "codemirror_mode": {
    "name": "ipython",
    "version": 3
   },
   "file_extension": ".py",
   "mimetype": "text/x-python",
   "name": "python",
   "nbconvert_exporter": "python",
   "pygments_lexer": "ipython3",
   "version": "3.9.13"
  }
 },
 "nbformat": 4,
 "nbformat_minor": 5
}
